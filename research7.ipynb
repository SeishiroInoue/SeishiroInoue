{
  "cells": [
    {
      "cell_type": "markdown",
      "metadata": {
        "id": "view-in-github",
        "colab_type": "text"
      },
      "source": [
        "<a href=\"https://colab.research.google.com/github/SeishiroInoue/SeishiroInoue/blob/main/research7.ipynb\" target=\"_parent\"><img src=\"https://colab.research.google.com/assets/colab-badge.svg\" alt=\"Open In Colab\"/></a>"
      ]
    },
    {
      "cell_type": "markdown",
      "metadata": {
        "id": "Js6_sjz3dYj8"
      },
      "source": [
        "# **メルカリ商品データの分析**"
      ]
    },
    {
      "cell_type": "markdown",
      "metadata": {
        "id": "_uWfeMlAcWSi"
      },
      "source": [
        "## **2値分類**\n",
        "\n",
        "* 商品が売れていないか（販売中）、売れたか（売り切れ）"
      ]
    },
    {
      "cell_type": "markdown",
      "metadata": {
        "id": "Yq8Z3DbHXTXo"
      },
      "source": [
        "変数は\n",
        "\n",
        "* 目的変数: 商品状態\n",
        "* 説明変数: 販売価格、カテゴリID、商品の状態、送料の負担、発送の方法、発送元の地域、発送にかかる日数、商品名の長さ、商品説明文の長さ"
      ]
    },
    {
      "cell_type": "markdown",
      "metadata": {
        "id": "KrX6tP9WXWI7"
      },
      "source": [
        "アルゴリズム（戦略）は\n",
        "\n",
        "* ランダムフォレスト\n",
        "\n",
        "を用いる\n",
        "\n",
        "より高い精度を目指す"
      ]
    },
    {
      "cell_type": "markdown",
      "metadata": {
        "id": "V5HCgcKgQi8d"
      },
      "source": [
        "## **1. データセットの説明**\n",
        "\n",
        "フリマアプリ「メルカリ」上に公開している商品データ\n",
        "\n",
        "* データ抽出日 : 2022年07月16日\n",
        "* データ対象期間 : 2020年01月01日〜2020年12月31日の間に出品された商品\n",
        "* 件数 : 144,674,037 件\n",
        "* データサイズ : 約 100 GB"
      ]
    },
    {
      "cell_type": "markdown",
      "metadata": {
        "id": "LPwIO4OYRsE9"
      },
      "source": [
        "## **2. データの準備**\n",
        "\n",
        "516個あるcsvファイルのうち、初めの5\n",
        "個（mercari_items_202208_000000000000.csv ~ mercari_items_202208_000000000004.csv）を使う"
      ]
    },
    {
      "cell_type": "code",
      "execution_count": null,
      "metadata": {
        "colab": {
          "base_uri": "https://localhost:8080/",
          "height": 1000
        },
        "id": "JmOKpMrB-1KT",
        "outputId": "9cc34e09-dba8-4934-8db7-17d05c25f6c9"
      },
      "outputs": [
        {
          "name": "stderr",
          "output_type": "stream",
          "text": [
            "/var/folders/j8/kt4l6ys96jn8w516h8hpp3w80000gn/T/ipykernel_24086/2015087067.py:14: FutureWarning: The frame.append method is deprecated and will be removed from pandas in a future version. Use pandas.concat instead.\n",
            "  combined_df = combined_df.append(df, ignore_index=True)\n",
            "/var/folders/j8/kt4l6ys96jn8w516h8hpp3w80000gn/T/ipykernel_24086/2015087067.py:14: FutureWarning: The frame.append method is deprecated and will be removed from pandas in a future version. Use pandas.concat instead.\n",
            "  combined_df = combined_df.append(df, ignore_index=True)\n",
            "/var/folders/j8/kt4l6ys96jn8w516h8hpp3w80000gn/T/ipykernel_24086/2015087067.py:14: FutureWarning: The frame.append method is deprecated and will be removed from pandas in a future version. Use pandas.concat instead.\n",
            "  combined_df = combined_df.append(df, ignore_index=True)\n",
            "/var/folders/j8/kt4l6ys96jn8w516h8hpp3w80000gn/T/ipykernel_24086/2015087067.py:14: FutureWarning: The frame.append method is deprecated and will be removed from pandas in a future version. Use pandas.concat instead.\n",
            "  combined_df = combined_df.append(df, ignore_index=True)\n",
            "/var/folders/j8/kt4l6ys96jn8w516h8hpp3w80000gn/T/ipykernel_24086/2015087067.py:14: FutureWarning: The frame.append method is deprecated and will be removed from pandas in a future version. Use pandas.concat instead.\n",
            "  combined_df = combined_df.append(df, ignore_index=True)\n"
          ]
        },
        {
          "data": {
            "text/html": [
              "<div>\n",
              "<style scoped>\n",
              "    .dataframe tbody tr th:only-of-type {\n",
              "        vertical-align: middle;\n",
              "    }\n",
              "\n",
              "    .dataframe tbody tr th {\n",
              "        vertical-align: top;\n",
              "    }\n",
              "\n",
              "    .dataframe thead th {\n",
              "        text-align: right;\n",
              "    }\n",
              "</style>\n",
              "<table border=\"1\" class=\"dataframe\">\n",
              "  <thead>\n",
              "    <tr style=\"text-align: right;\">\n",
              "      <th></th>\n",
              "      <th>anon_item_id</th>\n",
              "      <th>status</th>\n",
              "      <th>name</th>\n",
              "      <th>description</th>\n",
              "      <th>price</th>\n",
              "      <th>category_id</th>\n",
              "      <th>item_condition</th>\n",
              "      <th>size</th>\n",
              "      <th>brand_name</th>\n",
              "      <th>shipping_payer</th>\n",
              "      <th>shipping_method</th>\n",
              "      <th>shipping_from_area</th>\n",
              "      <th>shipping_duration</th>\n",
              "      <th>num_likes</th>\n",
              "      <th>num_comments</th>\n",
              "      <th>updated</th>\n",
              "      <th>created</th>\n",
              "    </tr>\n",
              "  </thead>\n",
              "  <tbody>\n",
              "    <tr>\n",
              "      <th>0</th>\n",
              "      <td>3afc6b86-0933-4f75-a3d5-b124d7707792</td>\n",
              "      <td>sold_out</td>\n",
              "      <td>【新品】WAIPOUA ワイポウア H81 メリノウール ライトロングTシャツ</td>\n",
              "      <td>ご覧いただきありがとうございます。\\n\\n値下げしました  ¥7,700  → ¥6,500...</td>\n",
              "      <td>6500</td>\n",
              "      <td>120</td>\n",
              "      <td>1</td>\n",
              "      <td>3.0</td>\n",
              "      <td>NaN</td>\n",
              "      <td>2</td>\n",
              "      <td>14</td>\n",
              "      <td>20</td>\n",
              "      <td>3</td>\n",
              "      <td>4</td>\n",
              "      <td>0</td>\n",
              "      <td>2020-11-08 22:54:15</td>\n",
              "      <td>2020-01-03 03:58:48</td>\n",
              "    </tr>\n",
              "    <tr>\n",
              "      <th>1</th>\n",
              "      <td>1309267d-632b-47b0-b1b8-b9efae32aeab</td>\n",
              "      <td>sold_out</td>\n",
              "      <td>ミレニアム 1 [下] (ドラゴン・タトゥーの女 下)</td>\n",
              "      <td>「ミレニアム 1〔下〕」\\nスティーグ・ラーソン\\n定価: ￥ 880\\n\\n#スティーグ・...</td>\n",
              "      <td>333</td>\n",
              "      <td>668</td>\n",
              "      <td>3</td>\n",
              "      <td>NaN</td>\n",
              "      <td>NaN</td>\n",
              "      <td>2</td>\n",
              "      <td>17</td>\n",
              "      <td>23</td>\n",
              "      <td>2</td>\n",
              "      <td>0</td>\n",
              "      <td>0</td>\n",
              "      <td>2020-02-15 10:13:36</td>\n",
              "      <td>2020-01-03 03:58:48</td>\n",
              "    </tr>\n",
              "    <tr>\n",
              "      <th>2</th>\n",
              "      <td>51cedc1f-3b8b-45b7-922a-9563f05d6803</td>\n",
              "      <td>sold_out</td>\n",
              "      <td>ワコール 産前産後骨盤ベルト</td>\n",
              "      <td>他の骨盤ベルトを使用した為出品します。\\n\\nカラー:黒\\nサイズ:M\\n\\n※箱無し対応可...</td>\n",
              "      <td>3950</td>\n",
              "      <td>293</td>\n",
              "      <td>1</td>\n",
              "      <td>3.0</td>\n",
              "      <td>1389.0</td>\n",
              "      <td>2</td>\n",
              "      <td>9</td>\n",
              "      <td>13</td>\n",
              "      <td>2</td>\n",
              "      <td>1</td>\n",
              "      <td>0</td>\n",
              "      <td>2020-01-09 04:50:09</td>\n",
              "      <td>2020-01-03 03:58:49</td>\n",
              "    </tr>\n",
              "    <tr>\n",
              "      <th>3</th>\n",
              "      <td>dde25cd3-fb93-46e1-802a-462452292773</td>\n",
              "      <td>sold_out</td>\n",
              "      <td>s★chan様専用 BIBS Pacifier vanilla</td>\n",
              "      <td>vanilla\\n0-6months</td>\n",
              "      <td>1200</td>\n",
              "      <td>526</td>\n",
              "      <td>1</td>\n",
              "      <td>NaN</td>\n",
              "      <td>NaN</td>\n",
              "      <td>2</td>\n",
              "      <td>17</td>\n",
              "      <td>14</td>\n",
              "      <td>2</td>\n",
              "      <td>0</td>\n",
              "      <td>0</td>\n",
              "      <td>2020-01-10 09:43:13</td>\n",
              "      <td>2020-01-03 03:58:49</td>\n",
              "    </tr>\n",
              "    <tr>\n",
              "      <th>4</th>\n",
              "      <td>cd4c4fe3-490c-4119-b385-ecee905d2c53</td>\n",
              "      <td>sold_out</td>\n",
              "      <td>城北高等学校 5年間スーパー過去問 2019年度用</td>\n",
              "      <td>「城北高等学校 5年間スーパー過去問」\\n定価: ￥ 2,310\\n\\n子ども用に購入しまし...</td>\n",
              "      <td>800</td>\n",
              "      <td>1124</td>\n",
              "      <td>3</td>\n",
              "      <td>NaN</td>\n",
              "      <td>NaN</td>\n",
              "      <td>2</td>\n",
              "      <td>14</td>\n",
              "      <td>13</td>\n",
              "      <td>1</td>\n",
              "      <td>1</td>\n",
              "      <td>0</td>\n",
              "      <td>2020-01-26 14:59:13</td>\n",
              "      <td>2020-01-03 03:58:49</td>\n",
              "    </tr>\n",
              "  </tbody>\n",
              "</table>\n",
              "</div>"
            ],
            "text/plain": [
              "                           anon_item_id    status  \\\n",
              "0  3afc6b86-0933-4f75-a3d5-b124d7707792  sold_out   \n",
              "1  1309267d-632b-47b0-b1b8-b9efae32aeab  sold_out   \n",
              "2  51cedc1f-3b8b-45b7-922a-9563f05d6803  sold_out   \n",
              "3  dde25cd3-fb93-46e1-802a-462452292773  sold_out   \n",
              "4  cd4c4fe3-490c-4119-b385-ecee905d2c53  sold_out   \n",
              "\n",
              "                                      name  \\\n",
              "0  【新品】WAIPOUA ワイポウア H81 メリノウール ライトロングTシャツ   \n",
              "1              ミレニアム 1 [下] (ドラゴン・タトゥーの女 下)   \n",
              "2                           ワコール 産前産後骨盤ベルト   \n",
              "3          s★chan様専用 BIBS Pacifier vanilla   \n",
              "4                城北高等学校 5年間スーパー過去問 2019年度用   \n",
              "\n",
              "                                         description  price  category_id  \\\n",
              "0  ご覧いただきありがとうございます。\\n\\n値下げしました  ¥7,700  → ¥6,500...   6500          120   \n",
              "1  「ミレニアム 1〔下〕」\\nスティーグ・ラーソン\\n定価: ￥ 880\\n\\n#スティーグ・...    333          668   \n",
              "2  他の骨盤ベルトを使用した為出品します。\\n\\nカラー:黒\\nサイズ:M\\n\\n※箱無し対応可...   3950          293   \n",
              "3                                 vanilla\\n0-6months   1200          526   \n",
              "4  「城北高等学校 5年間スーパー過去問」\\n定価: ￥ 2,310\\n\\n子ども用に購入しまし...    800         1124   \n",
              "\n",
              "   item_condition  size  brand_name  shipping_payer  shipping_method  \\\n",
              "0               1   3.0         NaN               2               14   \n",
              "1               3   NaN         NaN               2               17   \n",
              "2               1   3.0      1389.0               2                9   \n",
              "3               1   NaN         NaN               2               17   \n",
              "4               3   NaN         NaN               2               14   \n",
              "\n",
              "   shipping_from_area  shipping_duration  num_likes  num_comments  \\\n",
              "0                  20                  3          4             0   \n",
              "1                  23                  2          0             0   \n",
              "2                  13                  2          1             0   \n",
              "3                  14                  2          0             0   \n",
              "4                  13                  1          1             0   \n",
              "\n",
              "               updated              created  \n",
              "0  2020-11-08 22:54:15  2020-01-03 03:58:48  \n",
              "1  2020-02-15 10:13:36  2020-01-03 03:58:48  \n",
              "2  2020-01-09 04:50:09  2020-01-03 03:58:49  \n",
              "3  2020-01-10 09:43:13  2020-01-03 03:58:49  \n",
              "4  2020-01-26 14:59:13  2020-01-03 03:58:49  "
            ]
          },
          "execution_count": 25,
          "metadata": {},
          "output_type": "execute_result"
        }
      ],
      "source": [
        "# ライブラリをインポート\n",
        "import pandas as pd\n",
        "import glob\n",
        "\n",
        "# csvファイルのパスを取得\n",
        "file_paths = glob.glob('/Users/inoue/documents/特別研究/データ/items/*.csv')\n",
        "\n",
        "# 空のデータフレームを作成\n",
        "combined_df = pd.DataFrame()\n",
        "\n",
        "# csvファイルを読み込んで結合\n",
        "for file_path in file_paths:\n",
        "    df = pd.read_csv(file_path)\n",
        "    combined_df = combined_df.append(df, ignore_index=True)\n",
        "\n",
        "# 結合したデータフレームの冒頭5行をを表示\n",
        "combined_df.head()"
      ]
    },
    {
      "cell_type": "code",
      "execution_count": null,
      "metadata": {
        "colab": {
          "base_uri": "https://localhost:8080/"
        },
        "id": "eK-Cl4bG_CkI",
        "outputId": "426c0d39-6b16-432a-b112-5ae736c89e4e"
      },
      "outputs": [
        {
          "data": {
            "text/plain": [
              "1638642"
            ]
          },
          "execution_count": 33,
          "metadata": {},
          "output_type": "execute_result"
        }
      ],
      "source": [
        "# レコード数を表示\n",
        "len(combined_df)"
      ]
    },
    {
      "cell_type": "markdown",
      "metadata": {
        "id": "aO6TNYkCVb0W"
      },
      "source": [
        "## **3. データの加工**"
      ]
    },
    {
      "cell_type": "code",
      "execution_count": null,
      "metadata": {
        "colab": {
          "base_uri": "https://localhost:8080/",
          "height": 467
        },
        "id": "hREZLEORf0R_",
        "outputId": "6c37454c-9fec-45e1-8467-bbee403d56eb"
      },
      "outputs": [
        {
          "data": {
            "text/html": [
              "<div>\n",
              "<style scoped>\n",
              "    .dataframe tbody tr th:only-of-type {\n",
              "        vertical-align: middle;\n",
              "    }\n",
              "\n",
              "    .dataframe tbody tr th {\n",
              "        vertical-align: top;\n",
              "    }\n",
              "\n",
              "    .dataframe thead th {\n",
              "        text-align: right;\n",
              "    }\n",
              "</style>\n",
              "<table border=\"1\" class=\"dataframe\">\n",
              "  <thead>\n",
              "    <tr style=\"text-align: right;\">\n",
              "      <th></th>\n",
              "      <th>status</th>\n",
              "      <th>name</th>\n",
              "      <th>description</th>\n",
              "      <th>price</th>\n",
              "      <th>category_id</th>\n",
              "      <th>item_condition</th>\n",
              "      <th>shipping_payer</th>\n",
              "      <th>shipping_method</th>\n",
              "      <th>shipping_from_area</th>\n",
              "      <th>shipping_duration</th>\n",
              "    </tr>\n",
              "  </thead>\n",
              "  <tbody>\n",
              "    <tr>\n",
              "      <th>0</th>\n",
              "      <td>sold_out</td>\n",
              "      <td>【新品】WAIPOUA ワイポウア H81 メリノウール ライトロングTシャツ</td>\n",
              "      <td>ご覧いただきありがとうございます。\\n\\n値下げしました  ¥7,700  → ¥6,500...</td>\n",
              "      <td>6500</td>\n",
              "      <td>120</td>\n",
              "      <td>1</td>\n",
              "      <td>2</td>\n",
              "      <td>14</td>\n",
              "      <td>20</td>\n",
              "      <td>3</td>\n",
              "    </tr>\n",
              "    <tr>\n",
              "      <th>1</th>\n",
              "      <td>sold_out</td>\n",
              "      <td>ミレニアム 1 [下] (ドラゴン・タトゥーの女 下)</td>\n",
              "      <td>「ミレニアム 1〔下〕」\\nスティーグ・ラーソン\\n定価: ￥ 880\\n\\n#スティーグ・...</td>\n",
              "      <td>333</td>\n",
              "      <td>668</td>\n",
              "      <td>3</td>\n",
              "      <td>2</td>\n",
              "      <td>17</td>\n",
              "      <td>23</td>\n",
              "      <td>2</td>\n",
              "    </tr>\n",
              "    <tr>\n",
              "      <th>2</th>\n",
              "      <td>sold_out</td>\n",
              "      <td>ワコール 産前産後骨盤ベルト</td>\n",
              "      <td>他の骨盤ベルトを使用した為出品します。\\n\\nカラー:黒\\nサイズ:M\\n\\n※箱無し対応可...</td>\n",
              "      <td>3950</td>\n",
              "      <td>293</td>\n",
              "      <td>1</td>\n",
              "      <td>2</td>\n",
              "      <td>9</td>\n",
              "      <td>13</td>\n",
              "      <td>2</td>\n",
              "    </tr>\n",
              "    <tr>\n",
              "      <th>3</th>\n",
              "      <td>sold_out</td>\n",
              "      <td>s★chan様専用 BIBS Pacifier vanilla</td>\n",
              "      <td>vanilla\\n0-6months</td>\n",
              "      <td>1200</td>\n",
              "      <td>526</td>\n",
              "      <td>1</td>\n",
              "      <td>2</td>\n",
              "      <td>17</td>\n",
              "      <td>14</td>\n",
              "      <td>2</td>\n",
              "    </tr>\n",
              "    <tr>\n",
              "      <th>4</th>\n",
              "      <td>sold_out</td>\n",
              "      <td>城北高等学校 5年間スーパー過去問 2019年度用</td>\n",
              "      <td>「城北高等学校 5年間スーパー過去問」\\n定価: ￥ 2,310\\n\\n子ども用に購入しまし...</td>\n",
              "      <td>800</td>\n",
              "      <td>1124</td>\n",
              "      <td>3</td>\n",
              "      <td>2</td>\n",
              "      <td>14</td>\n",
              "      <td>13</td>\n",
              "      <td>1</td>\n",
              "    </tr>\n",
              "  </tbody>\n",
              "</table>\n",
              "</div>"
            ],
            "text/plain": [
              "     status                                     name  \\\n",
              "0  sold_out  【新品】WAIPOUA ワイポウア H81 メリノウール ライトロングTシャツ   \n",
              "1  sold_out              ミレニアム 1 [下] (ドラゴン・タトゥーの女 下)   \n",
              "2  sold_out                           ワコール 産前産後骨盤ベルト   \n",
              "3  sold_out          s★chan様専用 BIBS Pacifier vanilla   \n",
              "4  sold_out                城北高等学校 5年間スーパー過去問 2019年度用   \n",
              "\n",
              "                                         description  price  category_id  \\\n",
              "0  ご覧いただきありがとうございます。\\n\\n値下げしました  ¥7,700  → ¥6,500...   6500          120   \n",
              "1  「ミレニアム 1〔下〕」\\nスティーグ・ラーソン\\n定価: ￥ 880\\n\\n#スティーグ・...    333          668   \n",
              "2  他の骨盤ベルトを使用した為出品します。\\n\\nカラー:黒\\nサイズ:M\\n\\n※箱無し対応可...   3950          293   \n",
              "3                                 vanilla\\n0-6months   1200          526   \n",
              "4  「城北高等学校 5年間スーパー過去問」\\n定価: ￥ 2,310\\n\\n子ども用に購入しまし...    800         1124   \n",
              "\n",
              "   item_condition  shipping_payer  shipping_method  shipping_from_area  \\\n",
              "0               1               2               14                  20   \n",
              "1               3               2               17                  23   \n",
              "2               1               2                9                  13   \n",
              "3               1               2               17                  14   \n",
              "4               3               2               14                  13   \n",
              "\n",
              "   shipping_duration  \n",
              "0                  3  \n",
              "1                  2  \n",
              "2                  2  \n",
              "3                  2  \n",
              "4                  1  "
            ]
          },
          "execution_count": 34,
          "metadata": {},
          "output_type": "execute_result"
        }
      ],
      "source": [
        "# 必要な列のデータのみ抽出\n",
        "required_df = combined_df[['status', 'name', 'description', 'price', 'category_id', 'item_condition', 'shipping_payer', 'shipping_method', 'shipping_from_area', 'shipping_duration']]\n",
        "required_df.head()"
      ]
    },
    {
      "cell_type": "markdown",
      "metadata": {
        "id": "DbOR7ftzYVKV"
      },
      "source": [
        "商品名の長さ、商品説明文の長さを表す'name_length'、'description_length'カラムを追加"
      ]
    },
    {
      "cell_type": "code",
      "execution_count": null,
      "metadata": {
        "colab": {
          "base_uri": "https://localhost:8080/",
          "height": 206
        },
        "id": "-Y508mQ6YR1C",
        "outputId": "37e46978-fcb9-46ca-8225-50a159f915c2"
      },
      "outputs": [
        {
          "data": {
            "text/html": [
              "<div>\n",
              "<style scoped>\n",
              "    .dataframe tbody tr th:only-of-type {\n",
              "        vertical-align: middle;\n",
              "    }\n",
              "\n",
              "    .dataframe tbody tr th {\n",
              "        vertical-align: top;\n",
              "    }\n",
              "\n",
              "    .dataframe thead th {\n",
              "        text-align: right;\n",
              "    }\n",
              "</style>\n",
              "<table border=\"1\" class=\"dataframe\">\n",
              "  <thead>\n",
              "    <tr style=\"text-align: right;\">\n",
              "      <th></th>\n",
              "      <th>status</th>\n",
              "      <th>price</th>\n",
              "      <th>category_id</th>\n",
              "      <th>item_condition</th>\n",
              "      <th>shipping_payer</th>\n",
              "      <th>shipping_method</th>\n",
              "      <th>shipping_from_area</th>\n",
              "      <th>shipping_duration</th>\n",
              "      <th>name_length</th>\n",
              "      <th>description_length</th>\n",
              "    </tr>\n",
              "  </thead>\n",
              "  <tbody>\n",
              "    <tr>\n",
              "      <th>0</th>\n",
              "      <td>sold_out</td>\n",
              "      <td>6500</td>\n",
              "      <td>120</td>\n",
              "      <td>1</td>\n",
              "      <td>2</td>\n",
              "      <td>14</td>\n",
              "      <td>20</td>\n",
              "      <td>3</td>\n",
              "      <td>35</td>\n",
              "      <td>555</td>\n",
              "    </tr>\n",
              "    <tr>\n",
              "      <th>1</th>\n",
              "      <td>sold_out</td>\n",
              "      <td>333</td>\n",
              "      <td>668</td>\n",
              "      <td>3</td>\n",
              "      <td>2</td>\n",
              "      <td>17</td>\n",
              "      <td>23</td>\n",
              "      <td>2</td>\n",
              "      <td>23</td>\n",
              "      <td>250</td>\n",
              "    </tr>\n",
              "    <tr>\n",
              "      <th>2</th>\n",
              "      <td>sold_out</td>\n",
              "      <td>3950</td>\n",
              "      <td>293</td>\n",
              "      <td>1</td>\n",
              "      <td>2</td>\n",
              "      <td>9</td>\n",
              "      <td>13</td>\n",
              "      <td>2</td>\n",
              "      <td>13</td>\n",
              "      <td>73</td>\n",
              "    </tr>\n",
              "    <tr>\n",
              "      <th>3</th>\n",
              "      <td>sold_out</td>\n",
              "      <td>1200</td>\n",
              "      <td>526</td>\n",
              "      <td>1</td>\n",
              "      <td>2</td>\n",
              "      <td>17</td>\n",
              "      <td>14</td>\n",
              "      <td>2</td>\n",
              "      <td>28</td>\n",
              "      <td>16</td>\n",
              "    </tr>\n",
              "    <tr>\n",
              "      <th>4</th>\n",
              "      <td>sold_out</td>\n",
              "      <td>800</td>\n",
              "      <td>1124</td>\n",
              "      <td>3</td>\n",
              "      <td>2</td>\n",
              "      <td>14</td>\n",
              "      <td>13</td>\n",
              "      <td>1</td>\n",
              "      <td>23</td>\n",
              "      <td>105</td>\n",
              "    </tr>\n",
              "  </tbody>\n",
              "</table>\n",
              "</div>"
            ],
            "text/plain": [
              "     status  price  category_id  item_condition  shipping_payer  \\\n",
              "0  sold_out   6500          120               1               2   \n",
              "1  sold_out    333          668               3               2   \n",
              "2  sold_out   3950          293               1               2   \n",
              "3  sold_out   1200          526               1               2   \n",
              "4  sold_out    800         1124               3               2   \n",
              "\n",
              "   shipping_method  shipping_from_area  shipping_duration  name_length  \\\n",
              "0               14                  20                  3           35   \n",
              "1               17                  23                  2           23   \n",
              "2                9                  13                  2           13   \n",
              "3               17                  14                  2           28   \n",
              "4               14                  13                  1           23   \n",
              "\n",
              "   description_length  \n",
              "0                 555  \n",
              "1                 250  \n",
              "2                  73  \n",
              "3                  16  \n",
              "4                 105  "
            ]
          },
          "execution_count": 35,
          "metadata": {},
          "output_type": "execute_result"
        }
      ],
      "source": [
        "# 改行コードと空白を削除\n",
        "required_df = required_df.replace('\\n', '', regex=True)\n",
        "required_df = required_df.replace(' ', '', regex=True).replace('　', '', regex=True)\n",
        "\n",
        "# 'name_length'、'description_length'カラムを追加\n",
        "required_df['name_length'] = list(map(len, required_df['name']))\n",
        "required_df['description_length'] = list(map(len, required_df['description']))\n",
        "\n",
        "# 'name'、'description'カラムを削除\n",
        "required_df = required_df.drop('name', axis=1)\n",
        "required_df = required_df.drop('description', axis=1)\n",
        "\n",
        "# 冒頭5行をを表示\n",
        "required_df.head()"
      ]
    },
    {
      "cell_type": "markdown",
      "metadata": {
        "id": "6ruk3iJIhsJ_"
      },
      "source": [
        "「取引中」のデータも売れていることは確かなので、以後「売り切れ」のデータと合算して分析する\n",
        "\n",
        "* 出品中: 0\n",
        "* 取引中、売り切れ: 1\n",
        "\n",
        "として、ダミー変数を定義する"
      ]
    },
    {
      "cell_type": "code",
      "execution_count": null,
      "metadata": {
        "colab": {
          "base_uri": "https://localhost:8080/",
          "height": 206
        },
        "id": "j3nxGcaNgQcU",
        "outputId": "39815d8f-777e-4be4-f4c1-562eddbdbc10"
      },
      "outputs": [
        {
          "data": {
            "text/html": [
              "<div>\n",
              "<style scoped>\n",
              "    .dataframe tbody tr th:only-of-type {\n",
              "        vertical-align: middle;\n",
              "    }\n",
              "\n",
              "    .dataframe tbody tr th {\n",
              "        vertical-align: top;\n",
              "    }\n",
              "\n",
              "    .dataframe thead th {\n",
              "        text-align: right;\n",
              "    }\n",
              "</style>\n",
              "<table border=\"1\" class=\"dataframe\">\n",
              "  <thead>\n",
              "    <tr style=\"text-align: right;\">\n",
              "      <th></th>\n",
              "      <th>status</th>\n",
              "      <th>price</th>\n",
              "      <th>category_id</th>\n",
              "      <th>item_condition</th>\n",
              "      <th>shipping_payer</th>\n",
              "      <th>shipping_method</th>\n",
              "      <th>shipping_from_area</th>\n",
              "      <th>shipping_duration</th>\n",
              "      <th>name_length</th>\n",
              "      <th>description_length</th>\n",
              "    </tr>\n",
              "  </thead>\n",
              "  <tbody>\n",
              "    <tr>\n",
              "      <th>0</th>\n",
              "      <td>1</td>\n",
              "      <td>6500</td>\n",
              "      <td>120</td>\n",
              "      <td>1</td>\n",
              "      <td>2</td>\n",
              "      <td>14</td>\n",
              "      <td>20</td>\n",
              "      <td>3</td>\n",
              "      <td>35</td>\n",
              "      <td>555</td>\n",
              "    </tr>\n",
              "    <tr>\n",
              "      <th>1</th>\n",
              "      <td>1</td>\n",
              "      <td>333</td>\n",
              "      <td>668</td>\n",
              "      <td>3</td>\n",
              "      <td>2</td>\n",
              "      <td>17</td>\n",
              "      <td>23</td>\n",
              "      <td>2</td>\n",
              "      <td>23</td>\n",
              "      <td>250</td>\n",
              "    </tr>\n",
              "    <tr>\n",
              "      <th>2</th>\n",
              "      <td>1</td>\n",
              "      <td>3950</td>\n",
              "      <td>293</td>\n",
              "      <td>1</td>\n",
              "      <td>2</td>\n",
              "      <td>9</td>\n",
              "      <td>13</td>\n",
              "      <td>2</td>\n",
              "      <td>13</td>\n",
              "      <td>73</td>\n",
              "    </tr>\n",
              "    <tr>\n",
              "      <th>3</th>\n",
              "      <td>1</td>\n",
              "      <td>1200</td>\n",
              "      <td>526</td>\n",
              "      <td>1</td>\n",
              "      <td>2</td>\n",
              "      <td>17</td>\n",
              "      <td>14</td>\n",
              "      <td>2</td>\n",
              "      <td>28</td>\n",
              "      <td>16</td>\n",
              "    </tr>\n",
              "    <tr>\n",
              "      <th>4</th>\n",
              "      <td>1</td>\n",
              "      <td>800</td>\n",
              "      <td>1124</td>\n",
              "      <td>3</td>\n",
              "      <td>2</td>\n",
              "      <td>14</td>\n",
              "      <td>13</td>\n",
              "      <td>1</td>\n",
              "      <td>23</td>\n",
              "      <td>105</td>\n",
              "    </tr>\n",
              "  </tbody>\n",
              "</table>\n",
              "</div>"
            ],
            "text/plain": [
              "   status  price  category_id  item_condition  shipping_payer  \\\n",
              "0       1   6500          120               1               2   \n",
              "1       1    333          668               3               2   \n",
              "2       1   3950          293               1               2   \n",
              "3       1   1200          526               1               2   \n",
              "4       1    800         1124               3               2   \n",
              "\n",
              "   shipping_method  shipping_from_area  shipping_duration  name_length  \\\n",
              "0               14                  20                  3           35   \n",
              "1               17                  23                  2           23   \n",
              "2                9                  13                  2           13   \n",
              "3               17                  14                  2           28   \n",
              "4               14                  13                  1           23   \n",
              "\n",
              "   description_length  \n",
              "0                 555  \n",
              "1                 250  \n",
              "2                  73  \n",
              "3                  16  \n",
              "4                 105  "
            ]
          },
          "execution_count": 36,
          "metadata": {},
          "output_type": "execute_result"
        }
      ],
      "source": [
        "# ダミー変数を定義\n",
        "required_df['status'] = required_df['status'].map({'on_sale': 0, 'trading': 1, 'sold_out': 1})\n",
        "required_df.head()"
      ]
    },
    {
      "cell_type": "code",
      "execution_count": null,
      "metadata": {
        "colab": {
          "base_uri": "https://localhost:8080/"
        },
        "id": "Fsov6MSulwfp",
        "outputId": "11a0397b-f7ba-4273-8483-ddd09eb6e977"
      },
      "outputs": [
        {
          "data": {
            "text/plain": [
              "243194"
            ]
          },
          "execution_count": 37,
          "metadata": {},
          "output_type": "execute_result"
        }
      ],
      "source": [
        "# 売れていない件数を表示\n",
        "len(required_df[required_df['status'] == 0])"
      ]
    },
    {
      "cell_type": "code",
      "execution_count": null,
      "metadata": {
        "colab": {
          "base_uri": "https://localhost:8080/"
        },
        "id": "oeCsT-pemAKA",
        "outputId": "c70fb69e-8fa7-464b-c940-413a5b445a53"
      },
      "outputs": [
        {
          "data": {
            "text/plain": [
              "1395448"
            ]
          },
          "execution_count": 38,
          "metadata": {},
          "output_type": "execute_result"
        }
      ],
      "source": [
        "# 売れた件数を表示\n",
        "len(required_df[required_df['status'] == 1])"
      ]
    },
    {
      "cell_type": "markdown",
      "metadata": {
        "id": "Oq6tI6S9iaap"
      },
      "source": [
        "## **4. モデルの学習・検証**"
      ]
    },
    {
      "cell_type": "code",
      "execution_count": null,
      "metadata": {
        "colab": {
          "base_uri": "https://localhost:8080/"
        },
        "id": "XJPbp4zDiEfj",
        "outputId": "14281faf-e70e-4c41-fd39-6618f81aad2b"
      },
      "outputs": [
        {
          "data": {
            "text/plain": [
              "((1310913, 9), (327729, 9))"
            ]
          },
          "execution_count": 39,
          "metadata": {},
          "output_type": "execute_result"
        }
      ],
      "source": [
        "# ライブラリをインポート\n",
        "from sklearn.model_selection import train_test_split\n",
        "\n",
        "# 説明変数と目的変数を定義\n",
        "X = required_df.drop('status', axis=1)\n",
        "y = required_df['status']\n",
        "\n",
        "# 訓練データ(80%)とテストデータ(20%)に分ける\n",
        "X_train, X_test, y_train, y_test = train_test_split(X, y, test_size=0.2, random_state=42)\n",
        "\n",
        "# 次元数を表示\n",
        "X_train.shape, X_test.shape"
      ]
    },
    {
      "cell_type": "markdown",
      "metadata": {
        "id": "qqvYQBes-RZ8"
      },
      "source": [
        "評価・検証ライブラリ"
      ]
    },
    {
      "cell_type": "code",
      "execution_count": null,
      "metadata": {
        "id": "9G4fXHHI-VKC"
      },
      "outputs": [],
      "source": [
        "# ライブラリをインポート\n",
        "from sklearn.metrics import accuracy_score"
      ]
    },
    {
      "cell_type": "markdown",
      "metadata": {
        "id": "KBUJrAbdHyoZ"
      },
      "source": [
        "組み合わせライブラリ"
      ]
    },
    {
      "cell_type": "code",
      "execution_count": null,
      "metadata": {
        "id": "Y6qELqmaHyoZ"
      },
      "outputs": [],
      "source": [
        "# ライブラリをインポート\n",
        "from itertools import combinations"
      ]
    },
    {
      "cell_type": "markdown",
      "metadata": {
        "id": "X5aK6U4OqnV9"
      },
      "source": [
        "## **ランダムフォレスト**\n",
        "\n",
        "複数の決定木を組み合わせて予測する手法"
      ]
    },
    {
      "cell_type": "code",
      "execution_count": null,
      "metadata": {
        "id": "BDDNDgWxos0e",
        "outputId": "a572c9a7-0a44-4591-b7fb-df153fa48f37"
      },
      "outputs": [
        {
          "name": "stdout",
          "output_type": "stream",
          "text": [
            "正解率: 0.8690350869163241\n"
          ]
        }
      ],
      "source": [
        "# ライブラリをインポート\n",
        "from sklearn.ensemble import RandomForestClassifier\n",
        "\n",
        "# モデルのインスタンスを作成\n",
        "rf = RandomForestClassifier(random_state=42)\n",
        "\n",
        "# モデルの訓練\n",
        "rf.fit(X_train, y_train)\n",
        "\n",
        "# テストデータでの精度を計算\n",
        "y_pred = rf.predict(X_test)\n",
        "accuracy = accuracy_score(y_test, y_pred)\n",
        "\n",
        "# 精度を表示\n",
        "print('正解率:', accuracy)"
      ]
    },
    {
      "cell_type": "markdown",
      "metadata": {
        "id": "AgCd7nKmqnV9"
      },
      "source": [
        "## **5. 欠損値の補完**\n",
        "\n",
        "* サイズ\n",
        "* ブランド名\n",
        "\n",
        "の2つが欠損値となっている"
      ]
    },
    {
      "cell_type": "code",
      "execution_count": null,
      "metadata": {
        "tags": [],
        "id": "_5r5Q7n5qnV9",
        "outputId": "a1085006-2784-422a-9f29-c2b0907da08d"
      },
      "outputs": [
        {
          "data": {
            "text/html": [
              "<div>\n",
              "<style scoped>\n",
              "    .dataframe tbody tr th:only-of-type {\n",
              "        vertical-align: middle;\n",
              "    }\n",
              "\n",
              "    .dataframe tbody tr th {\n",
              "        vertical-align: top;\n",
              "    }\n",
              "\n",
              "    .dataframe thead th {\n",
              "        text-align: right;\n",
              "    }\n",
              "</style>\n",
              "<table border=\"1\" class=\"dataframe\">\n",
              "  <thead>\n",
              "    <tr style=\"text-align: right;\">\n",
              "      <th></th>\n",
              "      <th>status</th>\n",
              "      <th>name</th>\n",
              "      <th>description</th>\n",
              "      <th>price</th>\n",
              "      <th>category_id</th>\n",
              "      <th>item_condition</th>\n",
              "      <th>size</th>\n",
              "      <th>brand_name</th>\n",
              "      <th>shipping_payer</th>\n",
              "      <th>shipping_method</th>\n",
              "      <th>shipping_from_area</th>\n",
              "      <th>shipping_duration</th>\n",
              "    </tr>\n",
              "  </thead>\n",
              "  <tbody>\n",
              "    <tr>\n",
              "      <th>0</th>\n",
              "      <td>sold_out</td>\n",
              "      <td>【新品】WAIPOUA ワイポウア H81 メリノウール ライトロングTシャツ</td>\n",
              "      <td>ご覧いただきありがとうございます。\\n\\n値下げしました  ¥7,700  → ¥6,500...</td>\n",
              "      <td>6500</td>\n",
              "      <td>120</td>\n",
              "      <td>1</td>\n",
              "      <td>3.0</td>\n",
              "      <td>NaN</td>\n",
              "      <td>2</td>\n",
              "      <td>14</td>\n",
              "      <td>20</td>\n",
              "      <td>3</td>\n",
              "    </tr>\n",
              "    <tr>\n",
              "      <th>1</th>\n",
              "      <td>sold_out</td>\n",
              "      <td>ミレニアム 1 [下] (ドラゴン・タトゥーの女 下)</td>\n",
              "      <td>「ミレニアム 1〔下〕」\\nスティーグ・ラーソン\\n定価: ￥ 880\\n\\n#スティーグ・...</td>\n",
              "      <td>333</td>\n",
              "      <td>668</td>\n",
              "      <td>3</td>\n",
              "      <td>NaN</td>\n",
              "      <td>NaN</td>\n",
              "      <td>2</td>\n",
              "      <td>17</td>\n",
              "      <td>23</td>\n",
              "      <td>2</td>\n",
              "    </tr>\n",
              "    <tr>\n",
              "      <th>2</th>\n",
              "      <td>sold_out</td>\n",
              "      <td>ワコール 産前産後骨盤ベルト</td>\n",
              "      <td>他の骨盤ベルトを使用した為出品します。\\n\\nカラー:黒\\nサイズ:M\\n\\n※箱無し対応可...</td>\n",
              "      <td>3950</td>\n",
              "      <td>293</td>\n",
              "      <td>1</td>\n",
              "      <td>3.0</td>\n",
              "      <td>1389.0</td>\n",
              "      <td>2</td>\n",
              "      <td>9</td>\n",
              "      <td>13</td>\n",
              "      <td>2</td>\n",
              "    </tr>\n",
              "    <tr>\n",
              "      <th>3</th>\n",
              "      <td>sold_out</td>\n",
              "      <td>s★chan様専用 BIBS Pacifier vanilla</td>\n",
              "      <td>vanilla\\n0-6months</td>\n",
              "      <td>1200</td>\n",
              "      <td>526</td>\n",
              "      <td>1</td>\n",
              "      <td>NaN</td>\n",
              "      <td>NaN</td>\n",
              "      <td>2</td>\n",
              "      <td>17</td>\n",
              "      <td>14</td>\n",
              "      <td>2</td>\n",
              "    </tr>\n",
              "    <tr>\n",
              "      <th>4</th>\n",
              "      <td>sold_out</td>\n",
              "      <td>城北高等学校 5年間スーパー過去問 2019年度用</td>\n",
              "      <td>「城北高等学校 5年間スーパー過去問」\\n定価: ￥ 2,310\\n\\n子ども用に購入しまし...</td>\n",
              "      <td>800</td>\n",
              "      <td>1124</td>\n",
              "      <td>3</td>\n",
              "      <td>NaN</td>\n",
              "      <td>NaN</td>\n",
              "      <td>2</td>\n",
              "      <td>14</td>\n",
              "      <td>13</td>\n",
              "      <td>1</td>\n",
              "    </tr>\n",
              "  </tbody>\n",
              "</table>\n",
              "</div>"
            ],
            "text/plain": [
              "     status                                     name  \\\n",
              "0  sold_out  【新品】WAIPOUA ワイポウア H81 メリノウール ライトロングTシャツ   \n",
              "1  sold_out              ミレニアム 1 [下] (ドラゴン・タトゥーの女 下)   \n",
              "2  sold_out                           ワコール 産前産後骨盤ベルト   \n",
              "3  sold_out          s★chan様専用 BIBS Pacifier vanilla   \n",
              "4  sold_out                城北高等学校 5年間スーパー過去問 2019年度用   \n",
              "\n",
              "                                         description  price  category_id  \\\n",
              "0  ご覧いただきありがとうございます。\\n\\n値下げしました  ¥7,700  → ¥6,500...   6500          120   \n",
              "1  「ミレニアム 1〔下〕」\\nスティーグ・ラーソン\\n定価: ￥ 880\\n\\n#スティーグ・...    333          668   \n",
              "2  他の骨盤ベルトを使用した為出品します。\\n\\nカラー:黒\\nサイズ:M\\n\\n※箱無し対応可...   3950          293   \n",
              "3                                 vanilla\\n0-6months   1200          526   \n",
              "4  「城北高等学校 5年間スーパー過去問」\\n定価: ￥ 2,310\\n\\n子ども用に購入しまし...    800         1124   \n",
              "\n",
              "   item_condition  size  brand_name  shipping_payer  shipping_method  \\\n",
              "0               1   3.0         NaN               2               14   \n",
              "1               3   NaN         NaN               2               17   \n",
              "2               1   3.0      1389.0               2                9   \n",
              "3               1   NaN         NaN               2               17   \n",
              "4               3   NaN         NaN               2               14   \n",
              "\n",
              "   shipping_from_area  shipping_duration  \n",
              "0                  20                  3  \n",
              "1                  23                  2  \n",
              "2                  13                  2  \n",
              "3                  14                  2  \n",
              "4                  13                  1  "
            ]
          },
          "execution_count": 26,
          "metadata": {},
          "output_type": "execute_result"
        }
      ],
      "source": [
        "# 必要な列のデータのみ抽出\n",
        "complemented_df = combined_df[['status', 'name', 'description', 'price', 'category_id', 'item_condition', 'size', 'brand_name', 'shipping_payer', 'shipping_method', 'shipping_from_area', 'shipping_duration']]\n",
        "complemented_df.head()"
      ]
    },
    {
      "cell_type": "code",
      "execution_count": null,
      "metadata": {
        "tags": [],
        "id": "H74gHRbOqnV9",
        "outputId": "7923eb3d-2470-47d8-9670-4c170ee069e4"
      },
      "outputs": [
        {
          "name": "stdout",
          "output_type": "stream",
          "text": [
            "サイズの欠損値の数: 1286478\n",
            "ブランド名の数: 1080907\n"
          ]
        }
      ],
      "source": [
        "# サイズとブランド名の欠損値を数える\n",
        "missing_values_count_1 = complemented_df['size'].isna().sum()\n",
        "missing_values_count_2 = complemented_df['brand_name'].isna().sum()\n",
        "\n",
        "print('サイズの欠損値の数:', missing_values_count_1)\n",
        "print('ブランド名の数:', missing_values_count_2)"
      ]
    },
    {
      "cell_type": "code",
      "execution_count": null,
      "metadata": {
        "tags": [],
        "id": "qSAapUEGqnV9",
        "outputId": "e267dac0-802f-4c3f-a6ab-80384d8d9e75"
      },
      "outputs": [
        {
          "name": "stdout",
          "output_type": "stream",
          "text": [
            "サイズの非欠損値の数: 352164\n",
            "ブランド名の非欠損値の数: 557735\n"
          ]
        }
      ],
      "source": [
        "# サイズの欠損していない値を数える\n",
        "non_missing_values_count_1 = complemented_df['size'].notna().sum()\n",
        "non_missing_values_count_2 = complemented_df['brand_name'].notna().sum()\n",
        "\n",
        "print('サイズの非欠損値の数:', non_missing_values_count_1)\n",
        "print('ブランド名の非欠損値の数:', non_missing_values_count_2)"
      ]
    },
    {
      "cell_type": "code",
      "execution_count": null,
      "metadata": {
        "tags": [],
        "id": "auYKl00BqnV9",
        "outputId": "f4cfb78e-ff80-4271-d3e3-a0fe8c29f61d"
      },
      "outputs": [
        {
          "data": {
            "text/html": [
              "<div>\n",
              "<style scoped>\n",
              "    .dataframe tbody tr th:only-of-type {\n",
              "        vertical-align: middle;\n",
              "    }\n",
              "\n",
              "    .dataframe tbody tr th {\n",
              "        vertical-align: top;\n",
              "    }\n",
              "\n",
              "    .dataframe thead th {\n",
              "        text-align: right;\n",
              "    }\n",
              "</style>\n",
              "<table border=\"1\" class=\"dataframe\">\n",
              "  <thead>\n",
              "    <tr style=\"text-align: right;\">\n",
              "      <th></th>\n",
              "      <th>status</th>\n",
              "      <th>price</th>\n",
              "      <th>category_id</th>\n",
              "      <th>item_condition</th>\n",
              "      <th>size</th>\n",
              "      <th>brand_name</th>\n",
              "      <th>shipping_payer</th>\n",
              "      <th>shipping_method</th>\n",
              "      <th>shipping_from_area</th>\n",
              "      <th>shipping_duration</th>\n",
              "      <th>name_length</th>\n",
              "      <th>description_length</th>\n",
              "    </tr>\n",
              "  </thead>\n",
              "  <tbody>\n",
              "    <tr>\n",
              "      <th>0</th>\n",
              "      <td>sold_out</td>\n",
              "      <td>6500</td>\n",
              "      <td>120</td>\n",
              "      <td>1</td>\n",
              "      <td>3.0</td>\n",
              "      <td>NaN</td>\n",
              "      <td>2</td>\n",
              "      <td>14</td>\n",
              "      <td>20</td>\n",
              "      <td>3</td>\n",
              "      <td>35</td>\n",
              "      <td>555</td>\n",
              "    </tr>\n",
              "    <tr>\n",
              "      <th>1</th>\n",
              "      <td>sold_out</td>\n",
              "      <td>333</td>\n",
              "      <td>668</td>\n",
              "      <td>3</td>\n",
              "      <td>NaN</td>\n",
              "      <td>NaN</td>\n",
              "      <td>2</td>\n",
              "      <td>17</td>\n",
              "      <td>23</td>\n",
              "      <td>2</td>\n",
              "      <td>23</td>\n",
              "      <td>250</td>\n",
              "    </tr>\n",
              "    <tr>\n",
              "      <th>2</th>\n",
              "      <td>sold_out</td>\n",
              "      <td>3950</td>\n",
              "      <td>293</td>\n",
              "      <td>1</td>\n",
              "      <td>3.0</td>\n",
              "      <td>1389.0</td>\n",
              "      <td>2</td>\n",
              "      <td>9</td>\n",
              "      <td>13</td>\n",
              "      <td>2</td>\n",
              "      <td>13</td>\n",
              "      <td>73</td>\n",
              "    </tr>\n",
              "    <tr>\n",
              "      <th>3</th>\n",
              "      <td>sold_out</td>\n",
              "      <td>1200</td>\n",
              "      <td>526</td>\n",
              "      <td>1</td>\n",
              "      <td>NaN</td>\n",
              "      <td>NaN</td>\n",
              "      <td>2</td>\n",
              "      <td>17</td>\n",
              "      <td>14</td>\n",
              "      <td>2</td>\n",
              "      <td>28</td>\n",
              "      <td>16</td>\n",
              "    </tr>\n",
              "    <tr>\n",
              "      <th>4</th>\n",
              "      <td>sold_out</td>\n",
              "      <td>800</td>\n",
              "      <td>1124</td>\n",
              "      <td>3</td>\n",
              "      <td>NaN</td>\n",
              "      <td>NaN</td>\n",
              "      <td>2</td>\n",
              "      <td>14</td>\n",
              "      <td>13</td>\n",
              "      <td>1</td>\n",
              "      <td>23</td>\n",
              "      <td>105</td>\n",
              "    </tr>\n",
              "  </tbody>\n",
              "</table>\n",
              "</div>"
            ],
            "text/plain": [
              "     status  price  category_id  item_condition  size  brand_name  \\\n",
              "0  sold_out   6500          120               1   3.0         NaN   \n",
              "1  sold_out    333          668               3   NaN         NaN   \n",
              "2  sold_out   3950          293               1   3.0      1389.0   \n",
              "3  sold_out   1200          526               1   NaN         NaN   \n",
              "4  sold_out    800         1124               3   NaN         NaN   \n",
              "\n",
              "   shipping_payer  shipping_method  shipping_from_area  shipping_duration  \\\n",
              "0               2               14                  20                  3   \n",
              "1               2               17                  23                  2   \n",
              "2               2                9                  13                  2   \n",
              "3               2               17                  14                  2   \n",
              "4               2               14                  13                  1   \n",
              "\n",
              "   name_length  description_length  \n",
              "0           35                 555  \n",
              "1           23                 250  \n",
              "2           13                  73  \n",
              "3           28                  16  \n",
              "4           23                 105  "
            ]
          },
          "execution_count": 29,
          "metadata": {},
          "output_type": "execute_result"
        }
      ],
      "source": [
        "# 改行コードと空白を削除\n",
        "complemented_df = complemented_df.replace('\\n', '', regex=True)\n",
        "complemented_df = complemented_df.replace(' ', '', regex=True).replace('　', '', regex=True)\n",
        "\n",
        "# 'name_length'、'description_length'カラムを追加\n",
        "complemented_df['name_length'] = list(map(len, complemented_df['name']))\n",
        "complemented_df['description_length'] = list(map(len, complemented_df['description']))\n",
        "\n",
        "# 'name'、'description'カラムを削除\n",
        "complemented_df = complemented_df.drop('name', axis=1)\n",
        "complemented_df = complemented_df.drop('description', axis=1)\n",
        "\n",
        "# 冒頭5行をを表示\n",
        "complemented_df.head()"
      ]
    },
    {
      "cell_type": "code",
      "execution_count": null,
      "metadata": {
        "tags": [],
        "id": "fSfuKRttqnV9",
        "outputId": "6e084583-46d9-4f64-f523-b13d332ea247"
      },
      "outputs": [
        {
          "data": {
            "text/html": [
              "<div>\n",
              "<style scoped>\n",
              "    .dataframe tbody tr th:only-of-type {\n",
              "        vertical-align: middle;\n",
              "    }\n",
              "\n",
              "    .dataframe tbody tr th {\n",
              "        vertical-align: top;\n",
              "    }\n",
              "\n",
              "    .dataframe thead th {\n",
              "        text-align: right;\n",
              "    }\n",
              "</style>\n",
              "<table border=\"1\" class=\"dataframe\">\n",
              "  <thead>\n",
              "    <tr style=\"text-align: right;\">\n",
              "      <th></th>\n",
              "      <th>status</th>\n",
              "      <th>price</th>\n",
              "      <th>category_id</th>\n",
              "      <th>item_condition</th>\n",
              "      <th>size</th>\n",
              "      <th>brand_name</th>\n",
              "      <th>shipping_payer</th>\n",
              "      <th>shipping_method</th>\n",
              "      <th>shipping_from_area</th>\n",
              "      <th>shipping_duration</th>\n",
              "      <th>name_length</th>\n",
              "      <th>description_length</th>\n",
              "    </tr>\n",
              "  </thead>\n",
              "  <tbody>\n",
              "    <tr>\n",
              "      <th>0</th>\n",
              "      <td>1</td>\n",
              "      <td>6500</td>\n",
              "      <td>120</td>\n",
              "      <td>1</td>\n",
              "      <td>3.0</td>\n",
              "      <td>NaN</td>\n",
              "      <td>2</td>\n",
              "      <td>14</td>\n",
              "      <td>20</td>\n",
              "      <td>3</td>\n",
              "      <td>35</td>\n",
              "      <td>555</td>\n",
              "    </tr>\n",
              "    <tr>\n",
              "      <th>1</th>\n",
              "      <td>1</td>\n",
              "      <td>333</td>\n",
              "      <td>668</td>\n",
              "      <td>3</td>\n",
              "      <td>NaN</td>\n",
              "      <td>NaN</td>\n",
              "      <td>2</td>\n",
              "      <td>17</td>\n",
              "      <td>23</td>\n",
              "      <td>2</td>\n",
              "      <td>23</td>\n",
              "      <td>250</td>\n",
              "    </tr>\n",
              "    <tr>\n",
              "      <th>2</th>\n",
              "      <td>1</td>\n",
              "      <td>3950</td>\n",
              "      <td>293</td>\n",
              "      <td>1</td>\n",
              "      <td>3.0</td>\n",
              "      <td>1389.0</td>\n",
              "      <td>2</td>\n",
              "      <td>9</td>\n",
              "      <td>13</td>\n",
              "      <td>2</td>\n",
              "      <td>13</td>\n",
              "      <td>73</td>\n",
              "    </tr>\n",
              "    <tr>\n",
              "      <th>3</th>\n",
              "      <td>1</td>\n",
              "      <td>1200</td>\n",
              "      <td>526</td>\n",
              "      <td>1</td>\n",
              "      <td>NaN</td>\n",
              "      <td>NaN</td>\n",
              "      <td>2</td>\n",
              "      <td>17</td>\n",
              "      <td>14</td>\n",
              "      <td>2</td>\n",
              "      <td>28</td>\n",
              "      <td>16</td>\n",
              "    </tr>\n",
              "    <tr>\n",
              "      <th>4</th>\n",
              "      <td>1</td>\n",
              "      <td>800</td>\n",
              "      <td>1124</td>\n",
              "      <td>3</td>\n",
              "      <td>NaN</td>\n",
              "      <td>NaN</td>\n",
              "      <td>2</td>\n",
              "      <td>14</td>\n",
              "      <td>13</td>\n",
              "      <td>1</td>\n",
              "      <td>23</td>\n",
              "      <td>105</td>\n",
              "    </tr>\n",
              "  </tbody>\n",
              "</table>\n",
              "</div>"
            ],
            "text/plain": [
              "   status  price  category_id  item_condition  size  brand_name  \\\n",
              "0       1   6500          120               1   3.0         NaN   \n",
              "1       1    333          668               3   NaN         NaN   \n",
              "2       1   3950          293               1   3.0      1389.0   \n",
              "3       1   1200          526               1   NaN         NaN   \n",
              "4       1    800         1124               3   NaN         NaN   \n",
              "\n",
              "   shipping_payer  shipping_method  shipping_from_area  shipping_duration  \\\n",
              "0               2               14                  20                  3   \n",
              "1               2               17                  23                  2   \n",
              "2               2                9                  13                  2   \n",
              "3               2               17                  14                  2   \n",
              "4               2               14                  13                  1   \n",
              "\n",
              "   name_length  description_length  \n",
              "0           35                 555  \n",
              "1           23                 250  \n",
              "2           13                  73  \n",
              "3           28                  16  \n",
              "4           23                 105  "
            ]
          },
          "execution_count": 31,
          "metadata": {},
          "output_type": "execute_result"
        }
      ],
      "source": [
        "# ダミー変数を定義\n",
        "complemented_df['status'] = complemented_df['status'].map({'on_sale': 0, 'trading': 1, 'sold_out': 1})\n",
        "complemented_df.head()"
      ]
    },
    {
      "cell_type": "markdown",
      "metadata": {
        "id": "_-I24InDqnV9"
      },
      "source": [
        "## **ロジスティック回帰で欠損値を補完**"
      ]
    },
    {
      "cell_type": "code",
      "execution_count": null,
      "metadata": {
        "tags": [],
        "id": "KXv1HRiAqnV9",
        "outputId": "43f12338-e071-4d44-cd64-5f4d9ae68ddd"
      },
      "outputs": [
        {
          "data": {
            "text/html": [
              "<div>\n",
              "<style scoped>\n",
              "    .dataframe tbody tr th:only-of-type {\n",
              "        vertical-align: middle;\n",
              "    }\n",
              "\n",
              "    .dataframe tbody tr th {\n",
              "        vertical-align: top;\n",
              "    }\n",
              "\n",
              "    .dataframe thead th {\n",
              "        text-align: right;\n",
              "    }\n",
              "</style>\n",
              "<table border=\"1\" class=\"dataframe\">\n",
              "  <thead>\n",
              "    <tr style=\"text-align: right;\">\n",
              "      <th></th>\n",
              "      <th>status</th>\n",
              "      <th>price</th>\n",
              "      <th>category_id</th>\n",
              "      <th>item_condition</th>\n",
              "      <th>size</th>\n",
              "      <th>brand_name</th>\n",
              "      <th>shipping_payer</th>\n",
              "      <th>shipping_method</th>\n",
              "      <th>shipping_from_area</th>\n",
              "      <th>shipping_duration</th>\n",
              "      <th>name_length</th>\n",
              "      <th>description_length</th>\n",
              "    </tr>\n",
              "  </thead>\n",
              "  <tbody>\n",
              "    <tr>\n",
              "      <th>0</th>\n",
              "      <td>1</td>\n",
              "      <td>6500</td>\n",
              "      <td>120</td>\n",
              "      <td>1</td>\n",
              "      <td>3.000000</td>\n",
              "      <td>3564.990258</td>\n",
              "      <td>2</td>\n",
              "      <td>14</td>\n",
              "      <td>20</td>\n",
              "      <td>3</td>\n",
              "      <td>35</td>\n",
              "      <td>555</td>\n",
              "    </tr>\n",
              "    <tr>\n",
              "      <th>1</th>\n",
              "      <td>1</td>\n",
              "      <td>333</td>\n",
              "      <td>668</td>\n",
              "      <td>3</td>\n",
              "      <td>34.678734</td>\n",
              "      <td>3366.425847</td>\n",
              "      <td>2</td>\n",
              "      <td>17</td>\n",
              "      <td>23</td>\n",
              "      <td>2</td>\n",
              "      <td>23</td>\n",
              "      <td>250</td>\n",
              "    </tr>\n",
              "    <tr>\n",
              "      <th>2</th>\n",
              "      <td>1</td>\n",
              "      <td>3950</td>\n",
              "      <td>293</td>\n",
              "      <td>1</td>\n",
              "      <td>3.000000</td>\n",
              "      <td>1389.000000</td>\n",
              "      <td>2</td>\n",
              "      <td>9</td>\n",
              "      <td>13</td>\n",
              "      <td>2</td>\n",
              "      <td>13</td>\n",
              "      <td>73</td>\n",
              "    </tr>\n",
              "    <tr>\n",
              "      <th>3</th>\n",
              "      <td>1</td>\n",
              "      <td>1200</td>\n",
              "      <td>526</td>\n",
              "      <td>1</td>\n",
              "      <td>27.461600</td>\n",
              "      <td>3617.954987</td>\n",
              "      <td>2</td>\n",
              "      <td>17</td>\n",
              "      <td>14</td>\n",
              "      <td>2</td>\n",
              "      <td>28</td>\n",
              "      <td>16</td>\n",
              "    </tr>\n",
              "    <tr>\n",
              "      <th>4</th>\n",
              "      <td>1</td>\n",
              "      <td>800</td>\n",
              "      <td>1124</td>\n",
              "      <td>3</td>\n",
              "      <td>52.740134</td>\n",
              "      <td>3800.963445</td>\n",
              "      <td>2</td>\n",
              "      <td>14</td>\n",
              "      <td>13</td>\n",
              "      <td>1</td>\n",
              "      <td>23</td>\n",
              "      <td>105</td>\n",
              "    </tr>\n",
              "  </tbody>\n",
              "</table>\n",
              "</div>"
            ],
            "text/plain": [
              "   status  price  category_id  item_condition       size   brand_name  \\\n",
              "0       1   6500          120               1   3.000000  3564.990258   \n",
              "1       1    333          668               3  34.678734  3366.425847   \n",
              "2       1   3950          293               1   3.000000  1389.000000   \n",
              "3       1   1200          526               1  27.461600  3617.954987   \n",
              "4       1    800         1124               3  52.740134  3800.963445   \n",
              "\n",
              "   shipping_payer  shipping_method  shipping_from_area  shipping_duration  \\\n",
              "0               2               14                  20                  3   \n",
              "1               2               17                  23                  2   \n",
              "2               2                9                  13                  2   \n",
              "3               2               17                  14                  2   \n",
              "4               2               14                  13                  1   \n",
              "\n",
              "   name_length  description_length  \n",
              "0           35                 555  \n",
              "1           23                 250  \n",
              "2           13                  73  \n",
              "3           28                  16  \n",
              "4           23                 105  "
            ]
          },
          "execution_count": 32,
          "metadata": {},
          "output_type": "execute_result"
        }
      ],
      "source": [
        "# ライブラリをインポート\n",
        "from sklearn.linear_model import LinearRegression\n",
        "\n",
        "# 欠損値の補完を行うカラムのリスト\n",
        "columns_with_missing_values = ['size', 'brand_name']\n",
        "\n",
        "for column in columns_with_missing_values:\n",
        "    # 訓練データとテストデータに分ける\n",
        "    train_df = complemented_df[complemented_df[column].notna()]\n",
        "    test_df = complemented_df[complemented_df[column].isna()]\n",
        "\n",
        "    # 回帰モデルの訓練\n",
        "    X_train = train_df.drop(columns_with_missing_values, axis=1)\n",
        "    y_train = train_df[column]\n",
        "    regressor = LinearRegression().fit(X_train, y_train)\n",
        "\n",
        "    # 欠損値の予測\n",
        "    X_test = test_df.drop(columns_with_missing_values, axis=1)\n",
        "    predicted_values = regressor.predict(X_test)\n",
        "\n",
        "    # 予測値で欠損値を補完\n",
        "    complemented_df.loc[complemented_df[column].isna(), column] = predicted_values\n",
        "\n",
        "# 冒頭5行をを表示\n",
        "complemented_df.head()"
      ]
    },
    {
      "cell_type": "code",
      "execution_count": null,
      "metadata": {
        "tags": [],
        "id": "_d_MZmkWqnV-",
        "outputId": "2c465455-0f69-467e-ad13-a5e25f1b4d28"
      },
      "outputs": [
        {
          "data": {
            "text/plain": [
              "((1310913, 11), (327729, 11))"
            ]
          },
          "execution_count": 42,
          "metadata": {},
          "output_type": "execute_result"
        }
      ],
      "source": [
        "# ライブラリをインポート\n",
        "from sklearn.model_selection import train_test_split\n",
        "\n",
        "# 説明変数と目的変数を定義\n",
        "X = complemented_df.drop('status', axis=1)\n",
        "y = complemented_df['status']\n",
        "\n",
        "# 訓練データ(80%)とテストデータ(20%)に分ける\n",
        "X_train, X_test, y_train, y_test = train_test_split(X, y, test_size=0.2, random_state=42)\n",
        "\n",
        "# 次元数を表示\n",
        "X_train.shape, X_test.shape"
      ]
    },
    {
      "cell_type": "markdown",
      "metadata": {
        "id": "IVBcfA2tqnV-"
      },
      "source": [
        "## **ランダムフォレストで予測**"
      ]
    },
    {
      "cell_type": "code",
      "execution_count": null,
      "metadata": {
        "tags": [],
        "id": "aSWLHGmQqnV-",
        "outputId": "b0dd8f24-244d-4f61-a360-066edf40fa5f"
      },
      "outputs": [
        {
          "name": "stdout",
          "output_type": "stream",
          "text": [
            "正解率: 0.9671802007146149\n"
          ]
        }
      ],
      "source": [
        "# ライブラリをインポート\n",
        "from sklearn.ensemble import RandomForestClassifier\n",
        "\n",
        "# モデルのインスタンスを作成\n",
        "rf = RandomForestClassifier(random_state=42)\n",
        "\n",
        "# モデルの訓練\n",
        "rf.fit(X_train, y_train)\n",
        "\n",
        "# テストデータでの精度を計算\n",
        "y_pred = rf.predict(X_test)\n",
        "accuracy = accuracy_score(y_test, y_pred)\n",
        "\n",
        "# 精度を表示\n",
        "print('正解率:', accuracy)"
      ]
    }
  ],
  "metadata": {
    "colab": {
      "provenance": [],
      "include_colab_link": true
    },
    "kernelspec": {
      "display_name": "Python 3 (ipykernel)",
      "language": "python",
      "name": "python3"
    },
    "language_info": {
      "codemirror_mode": {
        "name": "ipython",
        "version": 3
      },
      "file_extension": ".py",
      "mimetype": "text/x-python",
      "name": "python",
      "nbconvert_exporter": "python",
      "pygments_lexer": "ipython3",
      "version": "3.11.3"
    }
  },
  "nbformat": 4,
  "nbformat_minor": 0
}